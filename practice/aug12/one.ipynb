{
 "cells": [
  {
   "cell_type": "code",
   "execution_count": 18,
   "id": "2d6c3ab2",
   "metadata": {},
   "outputs": [],
   "source": [
    "import pandas as pd\n",
    "import numpy as np\n",
    "import re\n",
    "from sklearn.model_selection import train_test_split\n",
    "from sklearn.feature_extraction.text import TfidfVectorizer\n",
    "from sklearn.linear_model import LogisticRegression\n",
    "from sklearn.metrics import accuracy_score, classification_report"
   ]
  },
  {
   "cell_type": "code",
   "execution_count": 19,
   "id": "aa756af9",
   "metadata": {},
   "outputs": [
    {
     "name": "stdout",
     "output_type": "stream",
     "text": [
      "                                                text     label\n",
      "0                @VirginAmerica What @dhepburn said.   neutral\n",
      "1  @VirginAmerica plus you've added commercials t...  positive\n",
      "2  @VirginAmerica I didn't today... Must mean I n...   neutral\n",
      "3  @VirginAmerica it's really aggressive to blast...  negative\n",
      "4  @VirginAmerica and it's a really big bad thing...  negative\n"
     ]
    }
   ],
   "source": [
    "df = pd.read_csv(\"data\\\\crowdflower\\\\airline-sentiment\\\\train.tsv\", sep=\"\\t\", encoding=\"latin1\")\n",
    "print(df.head())"
   ]
  },
  {
   "cell_type": "code",
   "execution_count": null,
   "id": "9faed77e",
   "metadata": {},
   "outputs": [
    {
     "name": "stdout",
     "output_type": "stream",
     "text": [
      "--- Data Preprocessing Complete ---\n",
      "Data Head:\n",
      "      label                                       cleaned_text\n",
      "0   neutral                                          what said\n",
      "1  positive  plus youve added commercials to the experience...\n",
      "2   neutral  i didnt today must mean i need to take another...\n",
      "3  negative  its really aggressive to blast obnoxious enter...\n",
      "4  negative            and its a really big bad thing about it\n",
      "\n",
      "Sentiment Distribution:\n",
      "label\n",
      "negative    9178\n",
      "neutral     3099\n",
      "positive    2363\n",
      "Name: count, dtype: int64\n"
     ]
    }
   ],
   "source": [
    "def clean_text(text):\n",
    "    text = text.lower()\n",
    "    text = re.sub(r'http\\S+', '', text)\n",
    "    text = re.sub(r'@\\w+', '', text)\n",
    "    text = re.sub(r'[^a-z\\s]', '', text)\n",
    "    text = re.sub(r'\\s+', ' ', text).strip()\n",
    "    return text\n",
    "\n",
    "df['cleaned_text'] = df['text'].apply(clean_text)\n",
    "\n",
    "df = df.drop(columns=['text'])\n",
    "df.dropna(subset=['cleaned_text'], inplace=True)\n",
    "df = df[df['cleaned_text'] != '']\n",
    "\n",
    "print(\"--- Data Preprocessing Complete ---\")\n",
    "print(\"Data Head:\")\n",
    "print(df.head())\n",
    "print(\"\\nSentiment Distribution:\")\n",
    "print(df['label'].value_counts())"
   ]
  },
  {
   "cell_type": "code",
   "execution_count": null,
   "id": "8e6d8993",
   "metadata": {},
   "outputs": [
    {
     "name": "stdout",
     "output_type": "stream",
     "text": [
      "\n",
      "--- Feature Extraction Complete ---\n",
      "Shape of TF-IDF matrix: (14640, 5000)\n",
      "\n",
      "--- Model Evaluation ---\n",
      "Accuracy: 0.7954\n",
      "\n",
      "Classification Report:\n",
      "              precision    recall  f1-score   support\n",
      "\n",
      "    negative       0.82      0.94      0.88      1835\n",
      "     neutral       0.67      0.56      0.61       620\n",
      "    positive       0.84      0.54      0.66       473\n",
      "\n",
      "    accuracy                           0.80      2928\n",
      "   macro avg       0.78      0.68      0.71      2928\n",
      "weighted avg       0.79      0.80      0.78      2928\n",
      "\n"
     ]
    }
   ],
   "source": [
    "X = df['cleaned_text']\n",
    "y = df['label']\n",
    "\n",
    "vectorizer = TfidfVectorizer(ngram_range=(1, 3), max_features=5000)\n",
    "\n",
    "X_tfidf = vectorizer.fit_transform(X)\n",
    "\n",
    "print(\"\\n--- Feature Extraction Complete ---\")\n",
    "print(\"Shape of TF-IDF matrix:\", X_tfidf.shape)\n",
    "\n",
    "X_train, X_test, y_train, y_test = train_test_split(\n",
    "    X_tfidf, y, test_size=0.2, random_state=42, stratify=y\n",
    ")\n",
    "\n",
    "model = LogisticRegression(max_iter=2000)\n",
    "\n",
    "model.fit(X_train, y_train)\n",
    "\n",
    "y_pred = model.predict(X_test)\n",
    "\n",
    "print(\"\\n--- Model Evaluation ---\")\n",
    "accuracy = accuracy_score(y_test, y_pred)\n",
    "print(f\"Accuracy: {accuracy:.4f}\")\n",
    "\n",
    "print(\"\\nClassification Report:\")\n",
    "print(classification_report(y_test, y_pred))"
   ]
  },
  {
   "cell_type": "code",
   "execution_count": 30,
   "id": "9fbfce08",
   "metadata": {},
   "outputs": [
    {
     "name": "stdout",
     "output_type": "stream",
     "text": [
      "\n",
      "--- Testing with New Sentences ---\n",
      "Tweet: 'I love this airline, the service was amazing!'\n",
      "Predicted Sentiment: positive\n",
      "\n",
      "Tweet: 'They lost my luggage and the flight was delayed for hours.'\n",
      "Predicted Sentiment: negative\n",
      "\n",
      "Tweet: 'What time does the flight to Dallas leave?'\n",
      "Predicted Sentiment: neutral\n",
      "\n",
      "Tweet: 'The operational failure are a testament to bad customer service.'\n",
      "Predicted Sentiment: negative\n",
      "\n",
      "Tweet: 'The crew is polite and helpful'\n",
      "Predicted Sentiment: positive\n",
      "\n",
      "Tweet: 'The board displays the flight information'\n",
      "Predicted Sentiment: negative\n",
      "\n"
     ]
    }
   ],
   "source": [
    "print(\"\\n--- Testing with New Sentences ---\")\n",
    "new_tweets = [\n",
    "    \"I love this airline, the service was amazing!\",\n",
    "    \"They lost my luggage and the flight was delayed for hours.\",\n",
    "    \"What time does the flight to Dallas leave?\",\n",
    "    \"The operational failure are a testament to bad customer service.\",\n",
    "    \"The crew is polite and helpful\",\n",
    "    \"The board displays the flight information\"\n",
    "]\n",
    "\n",
    "cleaned_new_tweets = [clean_text(tweet) for tweet in new_tweets]\n",
    "\n",
    "new_tweets_tfidf = vectorizer.transform(cleaned_new_tweets)\n",
    "\n",
    "new_predictions = model.predict(new_tweets_tfidf)\n",
    "\n",
    "for tweet, sentiment in zip(new_tweets, new_predictions):\n",
    "    print(f\"Tweet: '{tweet}'\\nPredicted Sentiment: {sentiment}\\n\")"
   ]
  }
 ],
 "metadata": {
  "kernelspec": {
   "display_name": "Python 3",
   "language": "python",
   "name": "python3"
  },
  "language_info": {
   "codemirror_mode": {
    "name": "ipython",
    "version": 3
   },
   "file_extension": ".py",
   "mimetype": "text/x-python",
   "name": "python",
   "nbconvert_exporter": "python",
   "pygments_lexer": "ipython3",
   "version": "3.12.4"
  }
 },
 "nbformat": 4,
 "nbformat_minor": 5
}
